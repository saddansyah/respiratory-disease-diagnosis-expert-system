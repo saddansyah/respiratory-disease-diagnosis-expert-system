{
 "cells": [
  {
   "cell_type": "markdown",
   "metadata": {},
   "source": [
    "# Expert System Diagnosis Gangguan Pernapasan\n",
    "###### oleh : Saddan Syah Akbar_20/460566/TK/51155\n",
    "\n",
    "### Gejala-Gejala:\n",
    "\n",
    "1. Batuk Berdahak\n",
    "2. Batuk Berdarah\n",
    "3. Batuk Kering\n",
    "4. Bibir Pecah-Pecah\n",
    "5. Demam\n",
    "6. Gatal Tenggorokan\n",
    "7. Hidung Tersumbat\n",
    "8. Kelelahan\n",
    "9. Mata Berair\n",
    "10. Hidung Mengeluarkan Banyak Cairan\n",
    "11. Mendengkur\n",
    "12. Mengi (atau bengek)\n",
    "13. Menggigil\n",
    "14. Mulut Kering\n",
    "15. Nafsu Makan Menurun\n",
    "16. Nyeri Dada\n",
    "17. Nyeri Wajah\n",
    "18. Penurunan Kesadaran\n",
    "19. Penurunan Penciuman\n",
    "20. Pilek\n",
    "21. Sakit Kepala\n",
    "22. Sakit Tenggorokan\n",
    "23. Sesak Napas\n",
    "24. Suara Serak\n",
    "25. Sulit Menelan\n",
    "\n",
    "#### Format penulisan pada input:\n",
    "- Bibir Pecah-Pecah -> bibir_pecah_pecah\n",
    "- Mengi -> mengi"
   ]
  },
  {
   "cell_type": "markdown",
   "metadata": {},
   "source": [
    "<hr>\n",
    "\n",
    "<h6>Wajib di-run terlebih dahulu !</h6>"
   ]
  },
  {
   "cell_type": "code",
   "execution_count": 6,
   "metadata": {},
   "outputs": [],
   "source": [
    "from expert_system_lib import Diagnosis"
   ]
  },
  {
   "cell_type": "code",
   "execution_count": 7,
   "metadata": {},
   "outputs": [
    {
     "name": "stdout",
     "output_type": "stream",
     "text": [
      "Requirement already satisfied: clipspy in c:\\users\\legion\\anaconda3\\lib\\site-packages (1.0.0)\n",
      "Requirement already satisfied: cffi>=1.0.0 in c:\\users\\legion\\anaconda3\\lib\\site-packages (from clipspy) (1.14.3)\n",
      "Requirement already satisfied: pycparser in c:\\users\\legion\\anaconda3\\lib\\site-packages (from cffi>=1.0.0->clipspy) (2.20)\n"
     ]
    }
   ],
   "source": [
    "obj = Diagnosis(\"respiratory-disease.clp\")"
   ]
  },
  {
   "cell_type": "markdown",
   "metadata": {},
   "source": [
    "<hr>\n",
    "\n",
    "<h6>Input Gejala</h6>"
   ]
  },
  {
   "cell_type": "code",
   "execution_count": 8,
   "metadata": {},
   "outputs": [
    {
     "name": "stdout",
     "output_type": "stream",
     "text": [
      "Masukkan gejala (ketik stop untuk berhenti): mengi\n",
      "Masukkan gejala (ketik stop untuk berhenti): batuk_kering\n",
      "Masukkan gejala (ketik stop untuk berhenti): sesak_napas\n",
      "Masukkan gejala (ketik stop untuk berhenti): stop\n",
      "\n",
      "\n",
      "Kamu mungkin mempunyai penyakit: Asma\n",
      "\n",
      "Penjelasan:\n",
      "\n",
      "Asma adalah penyakit kronis pada saluran pernapasan yang ditandai dengan sesak akibat peradangan dan penyempitan pada saluran napas. Asma dapat diderita oleh semua golongan usia, baik muda maupun tua.\n",
      "\n",
      "\n"
     ]
    }
   ],
   "source": [
    "while(True):\n",
    "    symptom = str(input(\"Masukkan gejala (ketik stop untuk berhenti): \"))\n",
    "    if(symptom == \"stop\"):\n",
    "        break\n",
    "    else:\n",
    "        obj.Add(symptom)\n",
    "\n",
    "print('\\n')\n",
    "obj.Run()\n",
    "obj.GetDiseaseInfo()\n",
    "obj.Reset()"
   ]
  }
 ],
 "metadata": {
  "kernelspec": {
   "display_name": "Python 3",
   "language": "python",
   "name": "python3"
  },
  "language_info": {
   "codemirror_mode": {
    "name": "ipython",
    "version": 3
   },
   "file_extension": ".py",
   "mimetype": "text/x-python",
   "name": "python",
   "nbconvert_exporter": "python",
   "pygments_lexer": "ipython3",
   "version": "3.8.5"
  }
 },
 "nbformat": 4,
 "nbformat_minor": 4
}
