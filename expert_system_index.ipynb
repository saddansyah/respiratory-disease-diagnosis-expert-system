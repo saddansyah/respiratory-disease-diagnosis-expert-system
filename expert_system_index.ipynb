{
 "cells": [
  {
   "cell_type": "markdown",
   "metadata": {},
   "source": [
    "# Expert System Diagnosis Gangguan Pernapasan\n",
    "###### oleh : Saddan Syah Akbar_20/460566/TK/51155\n",
    "\n",
    "### Gejala-Gejala:\n",
    "\n",
    "1. Batuk Berdahak\n",
    "2. Batuk Berdarah\n",
    "3. Batuk Kering\n",
    "4. Bibir Pecah-Pecah\n",
    "5. Demam\n",
    "6. Gatal Tenggorokan\n",
    "7. Hidung Tersumbat\n",
    "8. Kelelahan\n",
    "9. Mata Berair\n",
    "10. Hidung Mengeluarkan Banyak Cairan\n",
    "11. Mendengkur\n",
    "12. Mengi (atau bengek)\n",
    "13. Menggigil\n",
    "14. Mulut Kering\n",
    "15. Nafsu Makan Menurun\n",
    "16. Nyeri Dada\n",
    "17. Nyeri Wajah\n",
    "18. Penurunan Kesadaran\n",
    "19. Penurunan Penciuman\n",
    "20. Pilek\n",
    "21. Sakit Kepala\n",
    "22. Sakit Tenggorokan\n",
    "23. Sesak Napas\n",
    "24. Suara Serak\n",
    "25. Sulit Menelan\n",
    "\n",
    "#### Format penulisan pada input:\n",
    "- Bibir Pecah-Pecah -> bibir_pecah_pecah\n",
    "- Mengi -> mengi"
   ]
  },
  {
   "cell_type": "markdown",
   "metadata": {},
   "source": [
    "<hr>\n",
    "\n",
    "<h6>Wajib di-run terlebih dahulu !</h6>"
   ]
  },
  {
   "cell_type": "code",
   "execution_count": 1,
   "metadata": {},
   "outputs": [],
   "source": [
    "from expert_system_lib import Diagnosis"
   ]
  },
  {
   "cell_type": "code",
   "execution_count": 2,
   "metadata": {},
   "outputs": [
    {
     "name": "stdout",
     "output_type": "stream",
     "text": [
      "Requirement already satisfied: clipspy in c:\\users\\legion\\anaconda3\\lib\\site-packages (1.0.0)\n",
      "Requirement already satisfied: cffi>=1.0.0 in c:\\users\\legion\\anaconda3\\lib\\site-packages (from clipspy) (1.14.3)\n",
      "Requirement already satisfied: pycparser in c:\\users\\legion\\anaconda3\\lib\\site-packages (from cffi>=1.0.0->clipspy) (2.20)\n"
     ]
    }
   ],
   "source": [
    "obj = Diagnosis(\"respiratory-disease.clp\")"
   ]
  },
  {
   "cell_type": "markdown",
   "metadata": {},
   "source": [
    "<hr>\n",
    "\n",
    "<h6>Input Gejala</h6>"
   ]
  },
  {
   "cell_type": "code",
   "execution_count": 8,
   "metadata": {},
   "outputs": [
    {
     "name": "stdout",
     "output_type": "stream",
     "text": [
      "Masukkan gejala (ketik stop untuk berhenti): batuk_kering\n",
      "Masukkan gejala (ketik stop untuk berhenti): demam\n",
      "Masukkan gejala (ketik stop untuk berhenti): sakit_tenggorokan\n",
      "Masukkan gejala (ketik stop untuk berhenti): suara_serak\n",
      "Masukkan gejala (ketik stop untuk berhenti): penurunan_kesadaran\n",
      "Masukkan gejala (ketik stop untuk berhenti): sesak_napas\n",
      "Masukkan gejala (ketik stop untuk berhenti): sulit_menelan\n",
      "Masukkan gejala (ketik stop untuk berhenti): batuk_berdarah\n",
      "Masukkan gejala (ketik stop untuk berhenti): stop\n",
      "\n",
      "\n",
      "Kamu mungkin mempunyai penyakit: Laringitis, Laringitis Akut\n",
      "\n",
      "Penjelasan:\n",
      "\n",
      "Laryngitis atau penyakit laringitis adalah peradangan yang terjadi pada laring, yaitu bagian dari saluran pernapasan di mana pita suara berada. Kondisi ini dapat disebabkan oleh penggunaan laring yang berlebihan, iritasi, atau infeksi.\n",
      "\n",
      "\n"
     ]
    },
    {
     "ename": "KeyError",
     "evalue": "'laringitis akut'",
     "output_type": "error",
     "traceback": [
      "\u001b[1;31m---------------------------------------------------------------------------\u001b[0m",
      "\u001b[1;31mKeyError\u001b[0m                                  Traceback (most recent call last)",
      "\u001b[1;32m<ipython-input-8-5a417f2f0803>\u001b[0m in \u001b[0;36m<module>\u001b[1;34m\u001b[0m\n\u001b[0;32m      8\u001b[0m \u001b[0mprint\u001b[0m\u001b[1;33m(\u001b[0m\u001b[1;34m'\\n'\u001b[0m\u001b[1;33m)\u001b[0m\u001b[1;33m\u001b[0m\u001b[1;33m\u001b[0m\u001b[0m\n\u001b[0;32m      9\u001b[0m \u001b[0mobj\u001b[0m\u001b[1;33m.\u001b[0m\u001b[0mRun\u001b[0m\u001b[1;33m(\u001b[0m\u001b[1;33m)\u001b[0m\u001b[1;33m\u001b[0m\u001b[1;33m\u001b[0m\u001b[0m\n\u001b[1;32m---> 10\u001b[1;33m \u001b[0mobj\u001b[0m\u001b[1;33m.\u001b[0m\u001b[0mGetDiseaseInfo\u001b[0m\u001b[1;33m(\u001b[0m\u001b[1;33m)\u001b[0m\u001b[1;33m\u001b[0m\u001b[1;33m\u001b[0m\u001b[0m\n\u001b[0m\u001b[0;32m     11\u001b[0m \u001b[0mobj\u001b[0m\u001b[1;33m.\u001b[0m\u001b[0mReset\u001b[0m\u001b[1;33m(\u001b[0m\u001b[1;33m)\u001b[0m\u001b[1;33m\u001b[0m\u001b[1;33m\u001b[0m\u001b[0m\n",
      "\u001b[1;32m~\\Desktop\\BACKUP FROM G40\\TETI 2020\\COOLYEAH\\Smt 4\\Kecerdasan Buatan\\respiratory-disease-diagnosis-expert-system\\respiratory_disease_diagnosis_expert_system\\expert_system_lib.py\u001b[0m in \u001b[0;36mGetDiseaseInfo\u001b[1;34m(self)\u001b[0m\n\u001b[0;32m     61\u001b[0m             \u001b[0mprint\u001b[0m\u001b[1;33m(\u001b[0m\u001b[1;34m'\\nPenjelasan:\\n'\u001b[0m\u001b[1;33m)\u001b[0m\u001b[1;33m\u001b[0m\u001b[1;33m\u001b[0m\u001b[0m\n\u001b[0;32m     62\u001b[0m             \u001b[1;32mfor\u001b[0m \u001b[0mname\u001b[0m \u001b[1;32min\u001b[0m \u001b[0myour_disease\u001b[0m\u001b[1;33m:\u001b[0m\u001b[1;33m\u001b[0m\u001b[1;33m\u001b[0m\u001b[0m\n\u001b[1;32m---> 63\u001b[1;33m                 \u001b[0myour_disease_desc\u001b[0m \u001b[1;33m=\u001b[0m \u001b[0mself\u001b[0m\u001b[1;33m.\u001b[0m\u001b[0mGetDiseaseDesc\u001b[0m\u001b[1;33m(\u001b[0m\u001b[0mname\u001b[0m\u001b[1;33m.\u001b[0m\u001b[0mlower\u001b[0m\u001b[1;33m(\u001b[0m\u001b[1;33m)\u001b[0m\u001b[1;33m.\u001b[0m\u001b[1;34m\"_\"\u001b[0m\u001b[1;33m.\u001b[0m\u001b[0mjoin\u001b[0m\u001b[1;33m(\u001b[0m\u001b[1;33m)\u001b[0m\u001b[1;33m)\u001b[0m\u001b[1;33m\u001b[0m\u001b[1;33m\u001b[0m\u001b[0m\n\u001b[0m\u001b[0;32m     64\u001b[0m                 \u001b[0mprint\u001b[0m\u001b[1;33m(\u001b[0m\u001b[0myour_disease_desc\u001b[0m\u001b[1;33m)\u001b[0m\u001b[1;33m\u001b[0m\u001b[1;33m\u001b[0m\u001b[0m\n\u001b[0;32m     65\u001b[0m                 \u001b[0mprint\u001b[0m\u001b[1;33m(\u001b[0m\u001b[1;34m\"\\n\"\u001b[0m\u001b[1;33m)\u001b[0m\u001b[1;33m\u001b[0m\u001b[1;33m\u001b[0m\u001b[0m\n",
      "\u001b[1;32m~\\Desktop\\BACKUP FROM G40\\TETI 2020\\COOLYEAH\\Smt 4\\Kecerdasan Buatan\\respiratory-disease-diagnosis-expert-system\\respiratory_disease_diagnosis_expert_system\\expert_system_lib.py\u001b[0m in \u001b[0;36mGetDiseaseDesc\u001b[1;34m(self, disease_name)\u001b[0m\n\u001b[0;32m     51\u001b[0m             \u001b[0mrow\u001b[0m\u001b[1;33m[\u001b[0m\u001b[1;36m2\u001b[0m\u001b[1;33m:\u001b[0m\u001b[1;33m]\u001b[0m \u001b[1;33m=\u001b[0m \u001b[1;34m\"\"\u001b[0m\u001b[1;33m\u001b[0m\u001b[1;33m\u001b[0m\u001b[0m\n\u001b[0;32m     52\u001b[0m             \u001b[0mrows\u001b[0m\u001b[1;33m.\u001b[0m\u001b[0mappend\u001b[0m\u001b[1;33m(\u001b[0m\u001b[0mrow\u001b[0m\u001b[1;33m)\u001b[0m\u001b[1;33m\u001b[0m\u001b[1;33m\u001b[0m\u001b[0m\n\u001b[1;32m---> 53\u001b[1;33m         \u001b[1;32mreturn\u001b[0m \u001b[0mdata\u001b[0m\u001b[1;33m[\u001b[0m\u001b[0mdisease_name\u001b[0m\u001b[1;33m]\u001b[0m\u001b[1;33m\u001b[0m\u001b[1;33m\u001b[0m\u001b[0m\n\u001b[0m\u001b[0;32m     54\u001b[0m \u001b[1;33m\u001b[0m\u001b[0m\n\u001b[0;32m     55\u001b[0m     \u001b[1;32mdef\u001b[0m \u001b[0mGetDiseaseInfo\u001b[0m\u001b[1;33m(\u001b[0m\u001b[0mself\u001b[0m\u001b[1;33m)\u001b[0m\u001b[1;33m:\u001b[0m\u001b[1;33m\u001b[0m\u001b[1;33m\u001b[0m\u001b[0m\n",
      "\u001b[1;31mKeyError\u001b[0m: 'laringitis akut'"
     ]
    }
   ],
   "source": [
    "while(True):\n",
    "    symptom = str(input(\"Masukkan gejala (ketik stop untuk berhenti): \"))\n",
    "    if(symptom == \"stop\"):\n",
    "        break\n",
    "    else:\n",
    "        obj.Add(symptom)\n",
    "\n",
    "print('\\n')\n",
    "obj.Run()\n",
    "obj.GetDiseaseInfo()\n",
    "obj.Reset()"
   ]
  },
  {
   "cell_type": "code",
   "execution_count": null,
   "metadata": {},
   "outputs": [],
   "source": []
  }
 ],
 "metadata": {
  "kernelspec": {
   "display_name": "Python 3",
   "language": "python",
   "name": "python3"
  },
  "language_info": {
   "codemirror_mode": {
    "name": "ipython",
    "version": 3
   },
   "file_extension": ".py",
   "mimetype": "text/x-python",
   "name": "python",
   "nbconvert_exporter": "python",
   "pygments_lexer": "ipython3",
   "version": "3.8.5"
  }
 },
 "nbformat": 4,
 "nbformat_minor": 4
}
